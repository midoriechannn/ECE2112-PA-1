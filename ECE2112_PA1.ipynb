{
 "cells": [
  {
   "cell_type": "code",
   "execution_count": 24,
   "id": "2ae39d99-a99b-41d4-a4b2-6dd3f33256b7",
   "metadata": {},
   "outputs": [
    {
     "name": "stdout",
     "output_type": "stream",
     "text": [
      "ehllo\n",
      "acehkr\n",
      "ekmow\n"
     ]
    }
   ],
   "source": [
    "# AlPHABET SOUP PROBLEM \n",
    "\n",
    "#Defining our function named \"alphabet_soup\"\n",
    "def alphabet_soup(text): \n",
    "\n",
    "    #Converting the string into a list\n",
    "    conv = list(text)  \n",
    "\n",
    "    #For removing whitespaces if present\n",
    "    while ' ' in conv: \n",
    "        conv.remove(' ') \n",
    "\n",
    "    #Sorting the list alphabetically \n",
    "    conv.sort()  \n",
    "\n",
    "    #Return sorted list as string\n",
    "    final = \"\".join(conv) \n",
    "    return print (final)  \n",
    "\n",
    "#Function call \n",
    "alphabet_soup(\"hello\")  \n",
    "alphabet_soup(\"hacker\") \n",
    "alphabet_soup(\"meow k\") "
   ]
  },
  {
   "cell_type": "code",
   "execution_count": 44,
   "id": "abbabe1a-2c79-4bcb-ad1b-10bcf0c90c5f",
   "metadata": {},
   "outputs": [
    {
     "name": "stdout",
     "output_type": "stream",
     "text": [
      "Make me :)\n",
      "I am >:(\n"
     ]
    }
   ],
   "source": [
    "#EMOTICON PROBLEM \n",
    "\n",
    "#Defining our function named \"emotify\"\n",
    "def emotify(text):  \n",
    "    \n",
    "    #Initinializing value each keys\n",
    "    emoticon= {\"smile\": \":)\", \n",
    "           \"grin\" : \":D\", \n",
    "           \"sad\"  : \":((\",\n",
    "           \"mad\"  : \">:(\",} \n",
    "\n",
    "    #Loop thru dictionary items \n",
    "    for key, value in emoticon.items(): \n",
    "        \n",
    "        #For replacing the key with corresponding values(emoticons) \n",
    "        if key.lower() in text.lower(): \n",
    "            return print(text.replace(key,value)) \n",
    "            \n",
    "    #If no match is found in the text, return the original text\n",
    "    return print(text)\n",
    "\n",
    "#Function Call\n",
    "emotify (\"Make me smile\")  \n",
    "emotify (\"I am mad\")"
   ]
  },
  {
   "cell_type": "code",
   "execution_count": 51,
   "id": "8642f7db-644d-4207-afeb-64a197983eef",
   "metadata": {},
   "outputs": [
    {
     "name": "stdout",
     "output_type": "stream",
     "text": [
      "first: 1\n",
      "middle: [2, 3, 4, 5]\n",
      "last: 6\n"
     ]
    }
   ],
   "source": [
    "#UNPACKING PROBLEM \n",
    "\n",
    "#Defining the list\n",
    "lst = [1,2,3,4,5,6] \n",
    "\n",
    "#Indexing to unpack the list \n",
    "first = lst[0] \n",
    "middle = lst[1:-1] \n",
    "last = lst[-1] \n",
    "\n",
    "#Print the three values\n",
    "print(\"first:\", first) \n",
    "print(\"middle:\", middle)  \n",
    "print(\"last:\", last)"
   ]
  }
 ],
 "metadata": {
  "kernelspec": {
   "display_name": "Python 3 (ipykernel)",
   "language": "python",
   "name": "python3"
  },
  "language_info": {
   "codemirror_mode": {
    "name": "ipython",
    "version": 3
   },
   "file_extension": ".py",
   "mimetype": "text/x-python",
   "name": "python",
   "nbconvert_exporter": "python",
   "pygments_lexer": "ipython3",
   "version": "3.13.5"
  }
 },
 "nbformat": 4,
 "nbformat_minor": 5
}
